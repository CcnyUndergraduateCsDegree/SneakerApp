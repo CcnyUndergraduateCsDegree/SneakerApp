{
  "nbformat": 4,
  "nbformat_minor": 0,
  "metadata": {
    "language_info": {
      "name": "python",
      "codemirror_mode": {
        "name": "ipython",
        "version": 3
      },
      "version": "3.8.2-final"
    },
    "orig_nbformat": 2,
    "file_extension": ".py",
    "mimetype": "text/x-python",
    "name": "python",
    "npconvert_exporter": "python",
    "pygments_lexer": "ipython3",
    "version": 3,
    "kernelspec": {
      "name": "python38264bit6d885e4e49984b67b194278a20815524",
      "display_name": "Python 3.8.2 64-bit"
    },
    "colab": {
      "name": "mobile_net.ipynb",
      "provenance": []
    }
  },
  "cells": [
    {
      "cell_type": "code",
      "metadata": {
        "id": "DYLL54R3Mx5n",
        "colab_type": "code",
        "colab": {}
      },
      "source": [
        "from __future__ import absolute_import, division, print_function, unicode_literals\n",
        "import tensorflow as tf\n",
        "from tensorflow import keras\n",
        "import numpy as np\n",
        "import matplotlib.pyplot as plt\n",
        "import pathlib\n",
        "import random\n",
        "data_path = pathlib.Path('../IMAGE')"
      ],
      "execution_count": 0,
      "outputs": []
    },
    {
      "cell_type": "code",
      "metadata": {
        "id": "JXtN5IGrMx5r",
        "colab_type": "code",
        "colab": {}
      },
      "source": [
        "all_image_paths = list(data_path.glob('*/*/*.png'))  \n",
        "all_image_paths = [str(path) for path in all_image_paths]\n",
        "image_count = len(all_image_paths)\n",
        "random.shuffle(all_image_paths)"
      ],
      "execution_count": 0,
      "outputs": []
    },
    {
      "cell_type": "code",
      "metadata": {
        "id": "ceLeN5JNMx5t",
        "colab_type": "code",
        "colab": {}
      },
      "source": [
        "label_names = sorted(item.name for item in data_path.glob('./*/*') if item.is_dir())\n",
        "label_to_index = dict((name, index) for index, name in enumerate(label_names))\n",
        "all_image_labels = [label_to_index[pathlib.Path(path).parent.name] for path in all_image_paths]"
      ],
      "execution_count": 0,
      "outputs": []
    },
    {
      "cell_type": "code",
      "metadata": {
        "id": "XFGCk3mqMx5v",
        "colab_type": "code",
        "colab": {}
      },
      "source": [
        "train_image_paths = all_image_paths[0 : int(image_count * 0.8)]\n",
        "test_image_paths =all_image_paths[int(image_count * 0.8) : image_count - 1]\n",
        "train_image_labels = all_image_labels[0 : int(image_count * 0.8)]\n",
        "test_image_labels = all_image_labels[int(image_count * 0.8) : image_count - 1]"
      ],
      "execution_count": 0,
      "outputs": []
    },
    {
      "cell_type": "code",
      "metadata": {
        "id": "T9h3j1ifMx5x",
        "colab_type": "code",
        "outputId": "756a92be-c17c-4f39-c69f-fae3901c1648",
        "colab": {
          "base_uri": "https://localhost:8080/",
          "height": 53
        }
      },
      "source": [
        "print(label_names)\n",
        "print(label_to_index)\n",
        "for image, label in zip(all_image_paths[:5], all_image_labels[:5]):\n",
        "    print(image, ' --->  ', label)"
      ],
      "execution_count": 0,
      "outputs": [
        {
          "output_type": "stream",
          "text": [
            "[]\n",
            "{}\n"
          ],
          "name": "stdout"
        }
      ]
    },
    {
      "cell_type": "code",
      "metadata": {
        "id": "NgobmYz2Mx5z",
        "colab_type": "code",
        "outputId": "2e48b1de-8f0c-47ed-fff1-0bd60cd63f75",
        "colab": {
          "base_uri": "https://localhost:8080/",
          "height": 189
        }
      },
      "source": [
        "import IPython.display as display\n",
        "display.display(display.Image(all_image_paths[0]))"
      ],
      "execution_count": 0,
      "outputs": [
        {
          "output_type": "error",
          "ename": "IndexError",
          "evalue": "ignored",
          "traceback": [
            "\u001b[0;31m---------------------------------------------------------------------------\u001b[0m",
            "\u001b[0;31mIndexError\u001b[0m                                Traceback (most recent call last)",
            "\u001b[0;32m<ipython-input-6-21f82ed4d16b>\u001b[0m in \u001b[0;36m<module>\u001b[0;34m()\u001b[0m\n\u001b[1;32m      1\u001b[0m \u001b[0;32mimport\u001b[0m \u001b[0mIPython\u001b[0m\u001b[0;34m.\u001b[0m\u001b[0mdisplay\u001b[0m \u001b[0;32mas\u001b[0m \u001b[0mdisplay\u001b[0m\u001b[0;34m\u001b[0m\u001b[0;34m\u001b[0m\u001b[0m\n\u001b[0;32m----> 2\u001b[0;31m \u001b[0mdisplay\u001b[0m\u001b[0;34m.\u001b[0m\u001b[0mdisplay\u001b[0m\u001b[0;34m(\u001b[0m\u001b[0mdisplay\u001b[0m\u001b[0;34m.\u001b[0m\u001b[0mImage\u001b[0m\u001b[0;34m(\u001b[0m\u001b[0mall_image_paths\u001b[0m\u001b[0;34m[\u001b[0m\u001b[0;36m0\u001b[0m\u001b[0;34m]\u001b[0m\u001b[0;34m)\u001b[0m\u001b[0;34m)\u001b[0m\u001b[0;34m\u001b[0m\u001b[0;34m\u001b[0m\u001b[0m\n\u001b[0m",
            "\u001b[0;31mIndexError\u001b[0m: list index out of range"
          ]
        }
      ]
    },
    {
      "cell_type": "code",
      "metadata": {
        "id": "vh8POnb1Mx51",
        "colab_type": "code",
        "colab": {}
      },
      "source": [
        "def perprocess_image(path):\n",
        "    image = tf.io.read_file(path)\n",
        "    image = tf.image.decode_png(image, channels=3)\n",
        "    image = tf.image.resize(image, [224, 224])\n",
        "    image /= 255.0\n",
        "    return image"
      ],
      "execution_count": 0,
      "outputs": []
    },
    {
      "cell_type": "code",
      "metadata": {
        "tags": [
          "outputPrepend"
        ],
        "id": "zwR7M-YNMx54",
        "colab_type": "code",
        "colab": {}
      },
      "source": [
        "all_images = [perprocess_image(x) for x in all_image_paths]\n",
        "train_images = [perprocess_image(x) for x in train_image_paths]\n",
        "test_images = [perprocess_image(x) for x in test_image_paths]\n",
        "\n",
        "path_ds = tf.data.Dataset.from_tensor_slices(all_image_paths)\n",
        "train_path_ds = tf.data.Dataset.from_tensor_slices(train_image_paths)\n",
        "test_path_ds = tf.data.Dataset.from_tensor_slices(test_image_paths)\n",
        "\n",
        "image_ds = path_ds.map(perprocess_image, num_parallel_calls=tf.data.experimental.AUTOTUNE)\n",
        "train_image_ds = train_path_ds.map(perprocess_image, num_parallel_calls=tf.data.experimental.AUTOTUNE)\n",
        "test_image_ds = test_path_ds.map(perprocess_image, num_parallel_calls=tf.data.experimental.AUTOTUNE)"
      ],
      "execution_count": 0,
      "outputs": []
    },
    {
      "cell_type": "code",
      "metadata": {
        "id": "Xm560K2IMx56",
        "colab_type": "code",
        "colab": {}
      },
      "source": [
        "plt.figure(figsize=(8,8))\n",
        "for n, image in enumerate(image_ds.take(4)):\n",
        "  plt.subplot(2,2,n+1)\n",
        "  plt.imshow(image)\n",
        "  plt.grid(False)\n",
        "  plt.xticks([])\n",
        "  plt.yticks([])\n",
        "  plt.show()"
      ],
      "execution_count": 0,
      "outputs": []
    },
    {
      "cell_type": "code",
      "metadata": {
        "id": "lZuACp-2Mx58",
        "colab_type": "code",
        "colab": {}
      },
      "source": [
        "label_ds = tf.data.Dataset.from_tensor_slices(tf.cast(all_image_labels, tf.int64))\n",
        "train_label_ds = tf.data.Dataset.from_tensor_slices(tf.cast(train_image_labels, tf.int64))\n",
        "test_label_ds = tf.data.Dataset.from_tensor_slices(tf.cast(test_image_labels, tf.int64))"
      ],
      "execution_count": 0,
      "outputs": []
    },
    {
      "cell_type": "code",
      "metadata": {
        "id": "1A8TmlHyMx5-",
        "colab_type": "code",
        "colab": {}
      },
      "source": [
        "image_label_ds = tf.data.Dataset.zip((image_ds, label_ds))\n",
        "train_image_label_ds = tf.data.Dataset.zip((train_image_ds, train_label_ds))\n",
        "test_image_label_ds = tf.data.Dataset.zip((test_image_ds, test_label_ds))"
      ],
      "execution_count": 0,
      "outputs": []
    },
    {
      "cell_type": "code",
      "metadata": {
        "id": "h0F6zBbAMx5_",
        "colab_type": "code",
        "colab": {}
      },
      "source": [
        "BATCH_SIZE = 32\n",
        "\n",
        "ds = tf.data.Dataset.from_tensor_slices((all_image_paths, all_image_labels))\n",
        "ds = image_label_ds.shuffle(buffer_size=image_count)\n",
        "ds = ds.repeat()\n",
        "ds = ds.batch(BATCH_SIZE)\n",
        "\n",
        "ds = ds.prefetch(buffer_size=tf.data.experimental.AUTOTUNE)\n",
        "ds"
      ],
      "execution_count": 0,
      "outputs": []
    },
    {
      "cell_type": "code",
      "metadata": {
        "id": "_BsatVnkMx6C",
        "colab_type": "code",
        "colab": {}
      },
      "source": [
        "train_ds = tf.data.Dataset.from_tensor_slices((train_image_paths, train_image_labels))\n",
        "train_ds = train_image_label_ds.shuffle(buffer_size=image_count)\n",
        "train_ds = train_ds.repeat()\n",
        "train_ds = train_ds.batch(BATCH_SIZE)\n",
        "\n",
        "train_ds = train_ds.prefetch(buffer_size=tf.data.experimental.AUTOTUNE)\n",
        "train_ds"
      ],
      "execution_count": 0,
      "outputs": []
    },
    {
      "cell_type": "code",
      "metadata": {
        "id": "9P2V0KLkMx6E",
        "colab_type": "code",
        "colab": {}
      },
      "source": [
        "test_ds = tf.data.Dataset.from_tensor_slices((test_image_paths, test_image_labels))\n",
        "test_ds = train_image_label_ds.shuffle(buffer_size=image_count)\n",
        "test_ds = test_ds.repeat()\n",
        "test_ds = test_ds.batch(BATCH_SIZE)\n",
        "\n",
        "test_ds = test_ds.prefetch(buffer_size=tf.data.experimental.AUTOTUNE)\n",
        "test_ds"
      ],
      "execution_count": 0,
      "outputs": []
    },
    {
      "cell_type": "code",
      "metadata": {
        "id": "LeH_9-JeMx6F",
        "colab_type": "code",
        "colab": {}
      },
      "source": [
        "ds = image_label_ds.apply(\n",
        "  tf.data.experimental.shuffle_and_repeat(buffer_size=image_count))\n",
        "ds = ds.batch(BATCH_SIZE)\n",
        "ds = ds.prefetch(buffer_size=tf.data.experimental.AUTOTUNE)\n",
        "ds"
      ],
      "execution_count": 0,
      "outputs": []
    },
    {
      "cell_type": "code",
      "metadata": {
        "id": "MoIsEPxkMx6I",
        "colab_type": "code",
        "colab": {}
      },
      "source": [
        "train_ds = image_label_ds.apply(\n",
        "  tf.data.experimental.shuffle_and_repeat(buffer_size=image_count))\n",
        "train_ds = train_ds.batch(BATCH_SIZE)\n",
        "train_ds = train_ds.prefetch(buffer_size=tf.data.experimental.AUTOTUNE)\n",
        "train_ds"
      ],
      "execution_count": 0,
      "outputs": []
    },
    {
      "cell_type": "code",
      "metadata": {
        "id": "ucEqAjzaMx6K",
        "colab_type": "code",
        "colab": {}
      },
      "source": [
        "mobile_net = tf.keras.applications.MobileNetV2(input_shape=(224, 224, 3), include_top=False)\n",
        "mobile_net.trainable = False"
      ],
      "execution_count": 0,
      "outputs": []
    },
    {
      "cell_type": "code",
      "metadata": {
        "id": "cBtO4Wp9Mx6O",
        "colab_type": "code",
        "colab": {}
      },
      "source": [
        "def change_range(image,label):\n",
        "  return 2*image-1, label"
      ],
      "execution_count": 0,
      "outputs": []
    },
    {
      "cell_type": "code",
      "metadata": {
        "id": "U66szPfWMx6Q",
        "colab_type": "code",
        "colab": {}
      },
      "source": [
        "keras_ds = ds.map(change_range)\n",
        "train_keras_ds = train_ds.map(change_range)"
      ],
      "execution_count": 0,
      "outputs": []
    },
    {
      "cell_type": "code",
      "metadata": {
        "id": "EtUQ1Ud7Mx6S",
        "colab_type": "code",
        "colab": {}
      },
      "source": [
        "image_batch, label_batch = next(iter(keras_ds))\n",
        "feature_map_batch = mobile_net(image_batch)\n",
        "print(feature_map_batch.shape)"
      ],
      "execution_count": 0,
      "outputs": []
    },
    {
      "cell_type": "code",
      "metadata": {
        "id": "da7XV_c3Mx6U",
        "colab_type": "code",
        "colab": {}
      },
      "source": [
        "train_image_batch, train_label_batch = next(iter(train_keras_ds))\n",
        "feature_map_batch = mobile_net(train_image_batch)\n",
        "print(feature_map_batch.shape)"
      ],
      "execution_count": 0,
      "outputs": []
    },
    {
      "cell_type": "code",
      "metadata": {
        "id": "F-Uv0GKzMx6V",
        "colab_type": "code",
        "colab": {}
      },
      "source": [
        "model = tf.keras.Sequential([\n",
        "  mobile_net,\n",
        "  tf.keras.layers.GlobalAveragePooling2D(),\n",
        "  tf.keras.layers.Dense(len(label_names), activation = 'softmax')\n",
        "  ])"
      ],
      "execution_count": 0,
      "outputs": []
    },
    {
      "cell_type": "code",
      "metadata": {
        "id": "7Dllds8UMx6X",
        "colab_type": "code",
        "colab": {}
      },
      "source": [
        "logit_batch = model(image_batch).numpy()\n",
        "train_logit_batch = model(train_image_batch).numpy()\n",
        "\n",
        "print(\"min logit:\", logit_batch.min(), train_logit_batch.min())\n",
        "print(\"max logit:\", logit_batch.max(), train_logit_batch.max())\n",
        "print()\n",
        "\n",
        "print(\"Shape:\", logit_batch.shape, train_logit_batch.shape)"
      ],
      "execution_count": 0,
      "outputs": []
    },
    {
      "cell_type": "code",
      "metadata": {
        "id": "yskQ3SljMx6Z",
        "colab_type": "code",
        "colab": {}
      },
      "source": [
        "model.compile(optimizer=tf.keras.optimizers.Adam(),\n",
        "              loss='sparse_categorical_crossentropy',\n",
        "              metrics=[\"accuracy\"])"
      ],
      "execution_count": 0,
      "outputs": []
    },
    {
      "cell_type": "code",
      "metadata": {
        "id": "1opFNvHxMx6b",
        "colab_type": "code",
        "colab": {}
      },
      "source": [
        "len(model.trainable_variables)\n",
        "model.summary()"
      ],
      "execution_count": 0,
      "outputs": []
    },
    {
      "cell_type": "code",
      "metadata": {
        "id": "RSmd3ol6Mx6d",
        "colab_type": "code",
        "colab": {}
      },
      "source": [
        "steps_per_epoch=tf.math.ceil(len(all_image_paths)/BATCH_SIZE).numpy()\n",
        "steps_per_epoch"
      ],
      "execution_count": 0,
      "outputs": []
    },
    {
      "cell_type": "code",
      "metadata": {
        "id": "2wMMr4VyMx6f",
        "colab_type": "code",
        "colab": {}
      },
      "source": [
        "model.fit(train_ds, epochs=10, steps_per_epoch=steps_per_epoch)"
      ],
      "execution_count": 0,
      "outputs": []
    },
    {
      "cell_type": "code",
      "metadata": {
        "id": "eLLSjHKWMx6h",
        "colab_type": "code",
        "colab": {}
      },
      "source": [
        "test_loss, test_acc = model.evaluate(test_ds, steps=steps_per_epoch)\n",
        "\n",
        "print('\\nTest accuracy:', test_acc)"
      ],
      "execution_count": 0,
      "outputs": []
    },
    {
      "cell_type": "code",
      "metadata": {
        "id": "8m9yHPxlMx6j",
        "colab_type": "code",
        "colab": {}
      },
      "source": [
        "def _depthwise_separable_conv(inputs, num_pwc_filters, width_multiplier, sc, downsample=False):\n",
        "    num_pwc_filters = round(num_pwc_filters * width_multiplier)\n",
        "    _stride = 2 if downsample else 1\n",
        "\n",
        "    # skip pointwise by setting num_outputs=None\n",
        "    depthwise_conv = slim.separable_convolution2d(inputs, num_outputs=None, stride=_stride, \n",
        "                            depth_multiplier=1, kernel_size=[3, 3], scope=sc+'/depthwise_conv')\n",
        "\n",
        "    bn = slim.batch_norm(depthwise_conv, scope=sc+'/dw_batch_norm')\n",
        "    pointwise_conv = slim.convolution2d(bn, num_pwc_filters, kernel_size=[1, 1], scope=sc+'/pointwise_conv')\n",
        "    bn = slim.batch_norm(pointwise_conv, scope=sc+'/pw_batch_norm')\n",
        "    return bn"
      ],
      "execution_count": 0,
      "outputs": []
    }
  ]
}